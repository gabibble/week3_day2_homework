{
 "cells": [
  {
   "cell_type": "markdown",
   "metadata": {},
   "source": [
    "# Object-Oriented-Programming (OOP)"
   ]
  },
  {
   "cell_type": "markdown",
   "metadata": {},
   "source": [
    "## Tasks Today:\n",
    "\n",
    "   \n",
    "\n",
    "1) <b>Creating a Class (Initializing/Declaring)</b> <br>\n",
    "2) <b>Using a Class (Instantiating)</b> <br>\n",
    " &nbsp;&nbsp;&nbsp;&nbsp; a) Creating One Instance <br>\n",
    " &nbsp;&nbsp;&nbsp;&nbsp; b) Creating Multiple Instances <br>\n",
    " &nbsp;&nbsp;&nbsp;&nbsp; c) In-Class Exercise #1 - Create a Class 'Car' and instantiate three different makes of cars <br>\n",
    "3) <b>The \\__init\\__() Method</b> <br>\n",
    " &nbsp;&nbsp;&nbsp;&nbsp; a) The 'self' Attribute <br>\n",
    "4) <b>Class Attributes</b> <br>\n",
    " &nbsp;&nbsp;&nbsp;&nbsp; a) Initializing Attributes <br>\n",
    " &nbsp;&nbsp;&nbsp;&nbsp; b) Setting an Attribute Outside of the \\__init\\__() Method <br>\n",
    " &nbsp;&nbsp;&nbsp;&nbsp; c) Setting Defaults for Attributes <br>\n",
    " &nbsp;&nbsp;&nbsp;&nbsp; d) Accessing Class Attributes <br>\n",
    " &nbsp;&nbsp;&nbsp;&nbsp; e) Changing Class Attributes <br>\n",
    " &nbsp;&nbsp;&nbsp;&nbsp; f) In-Class Exercise #2 - Add a color and wheels attribute to your 'Car' class <br>\n",
    "5) <b>Class Methods</b> <br>\n",
    " &nbsp;&nbsp;&nbsp;&nbsp; a) Creating <br>\n",
    " &nbsp;&nbsp;&nbsp;&nbsp; b) Calling <br>\n",
    " &nbsp;&nbsp;&nbsp;&nbsp; c) Modifying an Attribute's Value Through a Method <br>\n",
    " &nbsp;&nbsp;&nbsp;&nbsp; d) Incrementing an Attribute's Value Through a Method <br>\n",
    " &nbsp;&nbsp;&nbsp;&nbsp; e) In-Class Exercise #3 - Add a method that prints the cars color and wheel number, then call them <br>\n",
    "6) <b>Inheritance</b> <br>\n",
    " &nbsp;&nbsp;&nbsp;&nbsp; a) Syntax for Inheriting from a Parent Class <br>\n",
    " &nbsp;&nbsp;&nbsp;&nbsp; b) The \\__init\\__() Method for a Child Class (super()) <br>\n",
    " &nbsp;&nbsp;&nbsp;&nbsp; c) Defining Attributes and Methods for the Child Class <br>\n",
    " &nbsp;&nbsp;&nbsp;&nbsp; d) Method Overriding <br>\n",
    " &nbsp;&nbsp;&nbsp;&nbsp; e) In-Class Exercise #4 - Create a class 'Ford' that inherits from 'Car' class and initialize it as a Blue Ford Explorer with 4 wheels using the super() method <br>\n",
    "7) <b>Classes as Attributes</b> <br>\n",
    "8) <b>Exercises</b> <br>\n",
    " &nbsp;&nbsp;&nbsp;&nbsp; a) Exercise #1 - Turn the shopping cart program from last week into an object-oriented program <br>"
   ]
  },
  {
   "cell_type": "code",
   "execution_count": null,
   "metadata": {},
   "outputs": [],
   "source": []
  },
  {
   "cell_type": "markdown",
   "metadata": {},
   "source": [
    "## Creating a Class (Initializing/Declaring)\n",
    "<p>When creating a class, function, or even a variable you are initializing that object. Initializing and Declaring occur at the same time in Python, whereas in lower level languages you have to declare an object before initializing it. This is the first step in the process of using a class.</p>"
   ]
  },
  {
   "cell_type": "code",
   "execution_count": 2,
   "metadata": {},
   "outputs": [],
   "source": [
    "class Car():\n",
    "    wheels = 4\n",
    "    color = 'blue'"
   ]
  },
  {
   "cell_type": "markdown",
   "metadata": {},
   "source": [
    "## Using a Class (Instantiating)\n",
    "<p>The process of creating a class is called <i>Instantiating</i>. Each time you create a variable of that type of class, it is referred to as an <i>Instance</i> of that class. This is the second step in the process of using a class.</p>"
   ]
  },
  {
   "cell_type": "markdown",
   "metadata": {},
   "source": [
    "##### Creating One Instance"
   ]
  },
  {
   "cell_type": "code",
   "execution_count": 3,
   "metadata": {},
   "outputs": [],
   "source": [
    "ford = Car()\n",
    "\n"
   ]
  },
  {
   "cell_type": "markdown",
   "metadata": {},
   "source": [
    "##### Creating Multiple Instances"
   ]
  },
  {
   "cell_type": "code",
   "execution_count": 7,
   "metadata": {},
   "outputs": [
    {
     "name": "stdout",
     "output_type": "stream",
     "text": [
      "4\n",
      "This is a blue chevy and it has 4 wheels\n"
     ]
    }
   ],
   "source": [
    "mazda = Car()\n",
    "honda = Car()\n",
    "toyota = Car()\n",
    "chevy = Car()\n",
    "\n",
    "print(mazda.wheels)\n",
    "print(f\"This is a {chevy.color} chevy and it has {chevy.wheels} wheels\")"
   ]
  },
  {
   "cell_type": "markdown",
   "metadata": {},
   "source": [
    "##### In-Class Exercise #1 - Create a Class 'Car' and Instantiate three different makes of cars"
   ]
  },
  {
   "cell_type": "code",
   "execution_count": 9,
   "metadata": {},
   "outputs": [
    {
     "name": "stdout",
     "output_type": "stream",
     "text": [
      "a Tesla is expensive but efficient\n"
     ]
    }
   ],
   "source": [
    "class Electric_car():\n",
    "    fuel = 'electricity'\n",
    "    cost = 'expensive'\n",
    "    efficient = True\n",
    "    \n",
    "tesla = Electric_car()\n",
    "bolt = Electric_car() \n",
    "\n",
    "print(f\"a Tesla is {tesla.cost} but efficient\")\n",
    "\n"
   ]
  },
  {
   "cell_type": "markdown",
   "metadata": {},
   "source": [
    "## The \\__init\\__() Method <br>\n",
    "<p>This method is used in almost every created class, and called only once upon the creation of the class instance. This method will initialize all variables needed for the object.</p>"
   ]
  },
  {
   "cell_type": "code",
   "execution_count": 13,
   "metadata": {},
   "outputs": [
    {
     "name": "stdout",
     "output_type": "stream",
     "text": [
      "4\n",
      "4.7 L\n",
      "{'wheels': 4, 'color': 'blue'}\n",
      "5\n"
     ]
    }
   ],
   "source": [
    "class Car():\n",
    "    ENGINE = '4.7 L'\n",
    "    def __init__(self, wheels, color):\n",
    "        self.wheels = wheels\n",
    "        self.color = color\n",
    "        \n",
    "mazda = Car(4, \"blue\")\n",
    "\n",
    "print(mazda.wheels)\n",
    "print(mazda.ENGINE)\n",
    "print(mazda.__dict__)\n",
    "mazda.wheels += 1\n",
    "print(mazda.wheels)"
   ]
  },
  {
   "cell_type": "markdown",
   "metadata": {},
   "source": [
    "##### The 'self' Attribute <br>\n",
    "<p>This attribute is required to keep track of specific instance's attributes. Without the self attribute, the program would not know how to reference or keep track of an instance's attributes.</p>"
   ]
  },
  {
   "cell_type": "code",
   "execution_count": 15,
   "metadata": {},
   "outputs": [
    {
     "name": "stdout",
     "output_type": "stream",
     "text": [
      "bug\n"
     ]
    }
   ],
   "source": [
    "class Pokemon():\n",
    "    def __init__(self, type_, weakness, strength, nature):\n",
    "        self.type_ = type_\n",
    "        self.weakness = weakness\n",
    "        self.strength = strength\n",
    "        self.nature = nature\n",
    "\n",
    "charmander = Pokemon('fire', ['water','rock','ground'],['grass','bug'],\"adamant\")\n",
    "\n",
    "print(charmander.strength[1])"
   ]
  },
  {
   "cell_type": "markdown",
   "metadata": {},
   "source": [
    "## Class Attributes <br>\n",
    "<p>While variables are inside of a class, they are referred to as attributes and not variables. When someone says 'attribute' you know they're speaking about a class. Attributes can be initialized through the init method, or outside of it.</p>"
   ]
  },
  {
   "cell_type": "markdown",
   "metadata": {},
   "source": [
    "##### Initializing Attributes"
   ]
  },
  {
   "cell_type": "code",
   "execution_count": 16,
   "metadata": {},
   "outputs": [
    {
     "name": "stdout",
     "output_type": "stream",
     "text": [
      "cold\n"
     ]
    }
   ],
   "source": [
    "class Dessert():\n",
    "    def __init__(self, temp, type_, flavor, sweetness, serving):\n",
    "        self.temp = temp\n",
    "        self.type_ = type_\n",
    "        self.flavor = flavor\n",
    "        self.sweetness = sweetness\n",
    "        self.serving = serving\n",
    "        \n",
    "tiramisu = Dessert(\"cold\", \"italian\", \"coffee\", \"medium\", \"large\")\n",
    "\n",
    "print(tiramisu.temp)"
   ]
  },
  {
   "cell_type": "markdown",
   "metadata": {},
   "source": [
    "##### Accessing Class Attributes"
   ]
  },
  {
   "cell_type": "code",
   "execution_count": null,
   "metadata": {
    "scrolled": true
   },
   "outputs": [],
   "source": [
    "# See Above"
   ]
  },
  {
   "cell_type": "markdown",
   "metadata": {},
   "source": [
    "##### Setting Defaults for Attributes"
   ]
  },
  {
   "cell_type": "code",
   "execution_count": 19,
   "metadata": {},
   "outputs": [
    {
     "name": "stdout",
     "output_type": "stream",
     "text": [
      "Blue\n",
      "aqua\n",
      "Blue\n",
      "aqua\n"
     ]
    }
   ],
   "source": [
    "class Car():\n",
    "    ENGINE = \"4.7 L\" #constant: not likely to change\n",
    "    def __init__(self, wheels):\n",
    "        self.wheels = wheels\n",
    "        self.color = \"Blue\" #setting default\n",
    "        \n",
    "lumina = Car(4)\n",
    "print(lumina.color)\n",
    "\n",
    "lumina.color = 'aqua'\n",
    "print(lumina.color)\n",
    "\n",
    "class Car2():\n",
    "    ENGINE = \"4.7 L\" #constant: not likely to change\n",
    "    def __init__(self, wheels, color = \"Blue\"):#another way to set a default\n",
    "        self.wheels = wheels\n",
    "        self.color = color\n",
    "        \n",
    "lumina = Car2(4)\n",
    "print(lumina.color)\n",
    "\n",
    "lumina.color = 'aqua'\n",
    "print(lumina.color)\n",
    "        \n"
   ]
  },
  {
   "cell_type": "markdown",
   "metadata": {},
   "source": [
    "##### Changing Class Attributes <br>\n",
    "<p>Keep in mind there are global class attributes and then there are attributes only available to each class instance which won't effect other classes.</p>"
   ]
  },
  {
   "cell_type": "code",
   "execution_count": 23,
   "metadata": {},
   "outputs": [
    {
     "name": "stdout",
     "output_type": "stream",
     "text": [
      "4\n",
      "white\n",
      "aqua\n",
      "2\n"
     ]
    }
   ],
   "source": [
    "class Car():\n",
    "    ENGINE = \"4.7 L\" #constant: not likely to change\n",
    "    def __init__(self, wheels, color):\n",
    "        self.wheels = wheels\n",
    "        self.color = color\n",
    "        \n",
    "beetle = Car(4, 'white')\n",
    "\n",
    "print(beetle.wheels)\n",
    "print(beetle.color)\n",
    "\n",
    "beetle.color = 'aqua'\n",
    "\n",
    "print(beetle.color)\n",
    "\n",
    "beetle.doors = 2\n",
    "print(beetle.doors)\n",
    "        "
   ]
  },
  {
   "cell_type": "code",
   "execution_count": null,
   "metadata": {},
   "outputs": [],
   "source": []
  },
  {
   "cell_type": "markdown",
   "metadata": {},
   "source": [
    "##### In-Class Exercise #2 - Add a doors and seats attribute to your 'Car' class then print out two different instances with different doors and seats"
   ]
  },
  {
   "cell_type": "code",
   "execution_count": 28,
   "metadata": {},
   "outputs": [
    {
     "name": "stdout",
     "output_type": "stream",
     "text": [
      "New and improved, now with 7 doors!\n",
      "With 13 seats for the whole family!\n",
      "You asked, we listened! Now with 25 seats!\n"
     ]
    }
   ],
   "source": [
    "class Car():\n",
    "    ENGINE = \"4.7 L\" #constant: not likely to change\n",
    "    def __init__(self, wheels, color, doors, seats):\n",
    "        self.wheels = wheels\n",
    "        self.color = color\n",
    "        self.doors = doors\n",
    "        self.seats = seats\n",
    "        \n",
    "honda = Car(4, 'aqua', 7, 13)\n",
    "print(f\"New and improved, now with {honda.doors} doors!\")\n",
    "print(f\"With {honda.seats} seats for the whole family!\")\n",
    "\n",
    "honda.seats = 25\n",
    "print(f\"You asked, we listened! Now with {honda.seats} seats!\")\n",
    "\n",
    "\n"
   ]
  },
  {
   "cell_type": "markdown",
   "metadata": {},
   "source": [
    "## Class Methods <br>\n",
    "<p>While inside of a class, functions are referred to as 'methods'. If you hear someone mention methods, they're speaking about classes. Methods are essentially functions, but only callable on the instances of a class.</p>"
   ]
  },
  {
   "cell_type": "markdown",
   "metadata": {},
   "source": [
    "##### Creating"
   ]
  },
  {
   "cell_type": "code",
   "execution_count": 2,
   "metadata": {},
   "outputs": [],
   "source": [
    "class Bus():\n",
    "    def __init__(self, doors, seats, seats_available, color, driver):\n",
    "        self.door = doors\n",
    "        self.seats = seats\n",
    "        self.seats_available = seats_available\n",
    "        self.color = color\n",
    "        self.driver = driver\n",
    "        \n",
    "    def load_passengers(self):\n",
    "        if self.seats_available <= 0:\n",
    "            print(\"bus full!\")\n",
    "            if self.seats_available < 0:\n",
    "                print(f\"you left {abs(self.seats_available)} people\")\n",
    "                self.seats_available = 0\n",
    "        else:\n",
    "            passengers = int(input(\"How many passengers are going on?\"))\n",
    "            if passengers > self.seats_available:\n",
    "                print(f\"sorry, we have to leave {passengers-self.seats_available} behind\")\n",
    "                seats_avaialbe = 0\n",
    "            else:\n",
    "                self.seats_available -= passengers\n",
    "                print(f\"{passengers} passengers have boarded the bus\")\n",
    "\n",
    "    def unload_passengers(self):\n",
    "        if self.seats_available >= self.seats:\n",
    "            print('no one on the bus!')\n",
    "            self.seats_available = self.seats\n",
    "        else:\n",
    "            unload = int(input(\"How many passengers are getting off the bus? \"))\n",
    "            self.seats_available += unload\n",
    "            if self.seats_available >= self.seats:\n",
    "                self.seats_available = self.seats\n",
    "                print(f\"{unload} passengers have gotten off the bus\")\n",
    "            print(f\"{unload} passengers have gotten off the bus\")\n",
    "            \n",
    "    def change_driver(self):\n",
    "        change = input(\"who is replacing you?\")\n",
    "        self.driver = change\n",
    "        print(f\"the new driver is {self.driver}\")\n",
    "    \n",
    "    def check_seats(self):\n",
    "        print(f\"there are {self.seats_available} seats available\")\n",
    "        \n",
    "    def admire_bus(self):\n",
    "        print(f\"wouldya just look at that beautiful {self.color} bus!\")\n",
    "        \n",
    "julia_bus = Bus(2, 90, 45, \"blue\", \"ted\")\n",
    "\n"
   ]
  },
  {
   "cell_type": "markdown",
   "metadata": {},
   "source": [
    "##### Calling"
   ]
  },
  {
   "cell_type": "code",
   "execution_count": 3,
   "metadata": {},
   "outputs": [
    {
     "name": "stdout",
     "output_type": "stream",
     "text": [
      "what would you like to do?load\n",
      "How many passengers are going on?100\n",
      "sorry, we have to leave 55 behind\n",
      "what would you like to do?unload\n",
      "How many passengers are getting off the bus? 20\n",
      "20 passengers have gotten off the bus\n",
      "what would you like to do?check\n",
      "there are 65 seats available\n"
     ]
    },
    {
     "ename": "KeyboardInterrupt",
     "evalue": "Interrupted by user",
     "output_type": "error",
     "traceback": [
      "\u001b[0;31m---------------------------------------------------------------------------\u001b[0m",
      "\u001b[0;31mKeyboardInterrupt\u001b[0m                         Traceback (most recent call last)",
      "Input \u001b[0;32mIn [3]\u001b[0m, in \u001b[0;36m<cell line: 13>\u001b[0;34m()\u001b[0m\n\u001b[1;32m     10\u001b[0m         \u001b[38;5;28;01melif\u001b[39;00m response \u001b[38;5;241m==\u001b[39m \u001b[38;5;124m'\u001b[39m\u001b[38;5;124mcheck\u001b[39m\u001b[38;5;124m'\u001b[39m:\n\u001b[1;32m     11\u001b[0m             julia_bus\u001b[38;5;241m.\u001b[39mcheck_seats()\n\u001b[0;32m---> 13\u001b[0m \u001b[43mrun\u001b[49m\u001b[43m(\u001b[49m\u001b[43m)\u001b[49m\n",
      "Input \u001b[0;32mIn [3]\u001b[0m, in \u001b[0;36mrun\u001b[0;34m()\u001b[0m\n\u001b[1;32m      1\u001b[0m \u001b[38;5;28;01mdef\u001b[39;00m \u001b[38;5;21mrun\u001b[39m():\n\u001b[1;32m      2\u001b[0m     \u001b[38;5;28;01mwhile\u001b[39;00m \u001b[38;5;28;01mTrue\u001b[39;00m: \n\u001b[0;32m----> 3\u001b[0m         response \u001b[38;5;241m=\u001b[39m \u001b[38;5;28;43minput\u001b[39;49m\u001b[43m(\u001b[49m\u001b[38;5;124;43m\"\u001b[39;49m\u001b[38;5;124;43mwhat would you like to do?\u001b[39;49m\u001b[38;5;124;43m\"\u001b[39;49m\u001b[43m)\u001b[49m\u001b[38;5;241m.\u001b[39mlower()\n\u001b[1;32m      4\u001b[0m         \u001b[38;5;28;01mif\u001b[39;00m response \u001b[38;5;241m==\u001b[39m \u001b[38;5;124m'\u001b[39m\u001b[38;5;124mquit\u001b[39m\u001b[38;5;124m'\u001b[39m:\n\u001b[1;32m      5\u001b[0m             \u001b[38;5;28;01mbreak\u001b[39;00m\n",
      "File \u001b[0;32m~/opt/anaconda3/lib/python3.9/site-packages/ipykernel/kernelbase.py:1075\u001b[0m, in \u001b[0;36mKernel.raw_input\u001b[0;34m(self, prompt)\u001b[0m\n\u001b[1;32m   1071\u001b[0m \u001b[38;5;28;01mif\u001b[39;00m \u001b[38;5;129;01mnot\u001b[39;00m \u001b[38;5;28mself\u001b[39m\u001b[38;5;241m.\u001b[39m_allow_stdin:\n\u001b[1;32m   1072\u001b[0m     \u001b[38;5;28;01mraise\u001b[39;00m StdinNotImplementedError(\n\u001b[1;32m   1073\u001b[0m         \u001b[38;5;124m\"\u001b[39m\u001b[38;5;124mraw_input was called, but this frontend does not support input requests.\u001b[39m\u001b[38;5;124m\"\u001b[39m\n\u001b[1;32m   1074\u001b[0m     )\n\u001b[0;32m-> 1075\u001b[0m \u001b[38;5;28;01mreturn\u001b[39;00m \u001b[38;5;28;43mself\u001b[39;49m\u001b[38;5;241;43m.\u001b[39;49m\u001b[43m_input_request\u001b[49m\u001b[43m(\u001b[49m\n\u001b[1;32m   1076\u001b[0m \u001b[43m    \u001b[49m\u001b[38;5;28;43mstr\u001b[39;49m\u001b[43m(\u001b[49m\u001b[43mprompt\u001b[49m\u001b[43m)\u001b[49m\u001b[43m,\u001b[49m\n\u001b[1;32m   1077\u001b[0m \u001b[43m    \u001b[49m\u001b[38;5;28;43mself\u001b[39;49m\u001b[38;5;241;43m.\u001b[39;49m\u001b[43m_parent_ident\u001b[49m\u001b[43m[\u001b[49m\u001b[38;5;124;43m\"\u001b[39;49m\u001b[38;5;124;43mshell\u001b[39;49m\u001b[38;5;124;43m\"\u001b[39;49m\u001b[43m]\u001b[49m\u001b[43m,\u001b[49m\n\u001b[1;32m   1078\u001b[0m \u001b[43m    \u001b[49m\u001b[38;5;28;43mself\u001b[39;49m\u001b[38;5;241;43m.\u001b[39;49m\u001b[43mget_parent\u001b[49m\u001b[43m(\u001b[49m\u001b[38;5;124;43m\"\u001b[39;49m\u001b[38;5;124;43mshell\u001b[39;49m\u001b[38;5;124;43m\"\u001b[39;49m\u001b[43m)\u001b[49m\u001b[43m,\u001b[49m\n\u001b[1;32m   1079\u001b[0m \u001b[43m    \u001b[49m\u001b[43mpassword\u001b[49m\u001b[38;5;241;43m=\u001b[39;49m\u001b[38;5;28;43;01mFalse\u001b[39;49;00m\u001b[43m,\u001b[49m\n\u001b[1;32m   1080\u001b[0m \u001b[43m\u001b[49m\u001b[43m)\u001b[49m\n",
      "File \u001b[0;32m~/opt/anaconda3/lib/python3.9/site-packages/ipykernel/kernelbase.py:1120\u001b[0m, in \u001b[0;36mKernel._input_request\u001b[0;34m(self, prompt, ident, parent, password)\u001b[0m\n\u001b[1;32m   1117\u001b[0m             \u001b[38;5;28;01mbreak\u001b[39;00m\n\u001b[1;32m   1118\u001b[0m \u001b[38;5;28;01mexcept\u001b[39;00m \u001b[38;5;167;01mKeyboardInterrupt\u001b[39;00m:\n\u001b[1;32m   1119\u001b[0m     \u001b[38;5;66;03m# re-raise KeyboardInterrupt, to truncate traceback\u001b[39;00m\n\u001b[0;32m-> 1120\u001b[0m     \u001b[38;5;28;01mraise\u001b[39;00m \u001b[38;5;167;01mKeyboardInterrupt\u001b[39;00m(\u001b[38;5;124m\"\u001b[39m\u001b[38;5;124mInterrupted by user\u001b[39m\u001b[38;5;124m\"\u001b[39m) \u001b[38;5;28;01mfrom\u001b[39;00m \u001b[38;5;28mNone\u001b[39m\n\u001b[1;32m   1121\u001b[0m \u001b[38;5;28;01mexcept\u001b[39;00m \u001b[38;5;167;01mException\u001b[39;00m:\n\u001b[1;32m   1122\u001b[0m     \u001b[38;5;28mself\u001b[39m\u001b[38;5;241m.\u001b[39mlog\u001b[38;5;241m.\u001b[39mwarning(\u001b[38;5;124m\"\u001b[39m\u001b[38;5;124mInvalid Message:\u001b[39m\u001b[38;5;124m\"\u001b[39m, exc_info\u001b[38;5;241m=\u001b[39m\u001b[38;5;28;01mTrue\u001b[39;00m)\n",
      "\u001b[0;31mKeyboardInterrupt\u001b[0m: Interrupted by user"
     ]
    }
   ],
   "source": [
    "def run():\n",
    "    while True: \n",
    "        response = input(\"what would you like to do?\").lower()\n",
    "        if response == 'quit':\n",
    "            break\n",
    "        elif response == 'load':\n",
    "            julia_bus.load_passengers()\n",
    "        elif response == 'unload':\n",
    "            julia_bus.unload_passengers()\n",
    "        elif response == 'check':\n",
    "            julia_bus.check_seats()\n",
    "            \n",
    "run()\n",
    "            "
   ]
  },
  {
   "cell_type": "markdown",
   "metadata": {},
   "source": [
    "##### Modifying an Attribute's Value Through a Method"
   ]
  },
  {
   "cell_type": "code",
   "execution_count": null,
   "metadata": {},
   "outputs": [],
   "source": []
  },
  {
   "cell_type": "markdown",
   "metadata": {},
   "source": [
    "##### Incrementing an Attribute's Value Through a Method"
   ]
  },
  {
   "cell_type": "code",
   "execution_count": null,
   "metadata": {},
   "outputs": [],
   "source": []
  },
  {
   "cell_type": "markdown",
   "metadata": {},
   "source": [
    "##### In-Class Exercise #3 - Add a method that takes in three parameters of year, doors and seats and prints out a formatted print statement with make, model, year, seats, and doors"
   ]
  },
  {
   "cell_type": "code",
   "execution_count": 1,
   "metadata": {},
   "outputs": [
    {
     "name": "stdout",
     "output_type": "stream",
     "text": [
      "Enter 'bio' to learn about Franny. Enter Q to quit: train\n",
      "What do you want to teach Franny? talk\n",
      "Yay! franny learned how to talk\n",
      "Enter 'bio' to learn about Franny. Enter Q to quit: bio\n",
      "\n",
      "Franny is a 2 year old Labradoodle\n",
      "These are the tricks Franny knows:\n",
      "\t-sit\n",
      "\t-shake\n",
      "\t-stay\n",
      "\t-touch\n",
      "\t-talk\n",
      "Enter 'bio' to learn about Franny. Enter Q to quit: Q\n"
     ]
    }
   ],
   "source": [
    "# Create class with 2 paramters inside of the __init__ which are make and model\n",
    "\n",
    "# Inside of the Car class create a method that has 4 parameter in total (self,year,door,seats)\n",
    "\n",
    "# Output: This car is from 2019 and is a Ford Expolorer and has 4 doors and 5 seats\n",
    "\n",
    "class Dog():\n",
    "    def __init__(self, name, breed, age, tricks):\n",
    "        self.name = name\n",
    "        self.breed = breed\n",
    "        self.age = age\n",
    "        self.tricks = tricks\n",
    "        \n",
    "    def get_bio(self):\n",
    "        print(f\"\\n{self.name} is a {self.age} year old {self.breed}\")\n",
    "        print(f\"These are the tricks {self.name} knows:\")\n",
    "\n",
    "        for trick in self.tricks:\n",
    "            print(\"\\t-\" + trick)\n",
    "            \n",
    "    def train(self):\n",
    "        new_trick = input(\"What do you want to teach Franny? \")\n",
    "        print(f\"Yay! franny learned how to {new_trick}\")\n",
    "        self.tricks.append(new_trick)\n",
    "            \n",
    "franny = Dog(\"Franny\", \"Labradoodle\", 2, [\"sit\", \"shake\", \"stay\", \"touch\"])\n",
    "\n",
    "def meet_dog():\n",
    "    while True:\n",
    "        response = input(\"Enter 'bio' to learn about Franny. Enter Q to quit: \").lower()\n",
    "        if response == 'q':\n",
    "            break\n",
    "        elif response == 'bio':\n",
    "            franny.get_bio()\n",
    "        elif response == 'train':\n",
    "            franny.train()\n",
    "            \n",
    "meet_dog()\n",
    "            \n",
    "        \n",
    "        \n",
    "        \n",
    "\n"
   ]
  },
  {
   "cell_type": "markdown",
   "metadata": {},
   "source": [
    "## Inheritance <br>\n",
    "<p>You can create a child-parent relationship between two classes by using inheritance. What this allows you to do is have overriding methods, but also inherit traits from the parent class. Think of it as an actual parent and child, the child will inherit the parent's genes, as will the classes in OOP</p>"
   ]
  },
  {
   "cell_type": "markdown",
   "metadata": {},
   "source": [
    "##### Syntax for Inheriting from a Parent Class"
   ]
  },
  {
   "cell_type": "code",
   "execution_count": 6,
   "metadata": {},
   "outputs": [
    {
     "name": "stdout",
     "output_type": "stream",
     "text": [
      "chester\n",
      "REEEEEEE\n",
      "lassie\n",
      "The dog is fast!\n"
     ]
    }
   ],
   "source": [
    "class Animal():\n",
    "    ACCELERATION = 9.8\n",
    "    \n",
    "    def __init__(self, name, species, legs=4):\n",
    "        self.name = name\n",
    "        self.species = species\n",
    "        self.legs=legs\n",
    "    \n",
    "    def makeSound(self):\n",
    "        print(\"REEEEEEE\")\n",
    "\n",
    "class Dog(Animal):\n",
    "    SPEED = 15\n",
    "    \n",
    "    def printInfo(self):\n",
    "        print(f\"The dog is fast!\")\n",
    "        \n",
    "class Mut(Dog):\n",
    "    COLOR = \"tan\"\n",
    "    def __init__(self, name, species, legs=4):\n",
    "        Dog.__init__(self, name, species, legs)\n",
    "#         self.eye_color = eye_color\n",
    "    def makeSound(self):\n",
    "        print(\"ruff\")\n",
    "        \n",
    "cheetah = Animal(\"chester\", \"Cheetah\")\n",
    "print(cheetah.name)\n",
    "\n",
    "cheetah.makeSound()\n",
    "\n",
    "lassie = Dog(\"lassie\", \"collie\")\n",
    "print(lassie.name)\n",
    "lassie.printInfo()\n",
    "\n",
    "doogie = Mut('Doogie', \"mutt\", \"brown\")\n",
    "        \n",
    "\n",
    "    "
   ]
  },
  {
   "cell_type": "markdown",
   "metadata": {},
   "source": [
    "##### The \\__init\\__() Method for a Child Class - super()"
   ]
  },
  {
   "cell_type": "code",
   "execution_count": null,
   "metadata": {
    "scrolled": true
   },
   "outputs": [],
   "source": [
    "class Mut(Dog):\n",
    "    COLOR = \"black and brown\"\n",
    "    \n",
    "    #pulling parent attributes by ay of super init\n",
    "    def __init__(self, name, species, eye_color, legs=4):\n",
    "        super().__init__(name, species, legs)\n",
    "        #super will reference the parent class \n",
    "        "
   ]
  },
  {
   "cell_type": "markdown",
   "metadata": {},
   "source": [
    "##### Defining Attributes and Methods for the Child Class"
   ]
  },
  {
   "cell_type": "code",
   "execution_count": null,
   "metadata": {},
   "outputs": [],
   "source": [
    "# See Above"
   ]
  },
  {
   "cell_type": "markdown",
   "metadata": {},
   "source": [
    "##### Method Overriding"
   ]
  },
  {
   "cell_type": "code",
   "execution_count": null,
   "metadata": {},
   "outputs": [],
   "source": [
    "# See Above"
   ]
  },
  {
   "cell_type": "markdown",
   "metadata": {},
   "source": [
    "## Classes as Attributes <br>\n",
    "<p>Classes can also be used as attributes within another class. This is useful in situations where you need to keep variables locally stored, instead of globally stored.</p>"
   ]
  },
  {
   "cell_type": "code",
   "execution_count": 9,
   "metadata": {},
   "outputs": [
    {
     "name": "stdout",
     "output_type": "stream",
     "text": [
      "7.8\n"
     ]
    }
   ],
   "source": [
    "class Battery():\n",
    "    VOLTZ = 7.8\n",
    "    \n",
    "    def __init__(self, cells):\n",
    "        self.cells = cells\n",
    "        \n",
    "class Car():\n",
    "    def __init__(self, year, make, model, battery):\n",
    "        self.year = year\n",
    "        self.make = make\n",
    "        self.model = model\n",
    "        self.battery = battery\n",
    "        \n",
    "    def printInfo(self):\n",
    "        return \"car\"\n",
    "    \n",
    "battery = Battery(20)\n",
    "\n",
    "tesla = Car(2022, \"Tesla\", \"Douchie\", battery)\n",
    "\n",
    "tesla.printInfo()\n",
    "\n",
    "print(tesla.battery.VOLTZ)\n"
   ]
  },
  {
   "cell_type": "code",
   "execution_count": null,
   "metadata": {},
   "outputs": [],
   "source": []
  },
  {
   "cell_type": "markdown",
   "metadata": {},
   "source": [
    "# Exercises"
   ]
  },
  {
   "cell_type": "markdown",
   "metadata": {},
   "source": [
    "### Exercise 1 - Turn the shopping cart program from yesterday into an object-oriented program\n",
    "\n",
    "The comments in the cell below are there as a guide for thinking about the problem. However, if you feel a different way is best for you and your own thought process, please do what feels best for you by all means."
   ]
  },
  {
   "cell_type": "code",
   "execution_count": null,
   "metadata": {},
   "outputs": [],
   "source": [
    "# Create a class called cart that retains items and has methods to add, remove, and show\n",
    "\n",
    "class Cart():\n",
    "    pass\n",
    "    "
   ]
  },
  {
   "cell_type": "markdown",
   "metadata": {},
   "source": [
    "### Exercise 2 - Write a Python class which has two methods get_String and print_String. get_String accept a string from the user and print_String print the string in upper case"
   ]
  },
  {
   "cell_type": "code",
   "execution_count": 4,
   "metadata": {},
   "outputs": [
    {
     "name": "stdout",
     "output_type": "stream",
     "text": [
      "Enter 'Share' to share a thought. Enter 'Yell' to have your thoughts yelled back at you. Enter 'Q' to quit.Share\n",
      "please share a thought: coding is fun\n",
      "Thank you for your wise thought.\n",
      "Enter 'Share' to share a thought. Enter 'Yell' to have your thoughts yelled back at you. Enter 'Q' to quit.share\n",
      "please share a thought: Pizza is awesome\n",
      "Thank you for your wise thought.\n",
      "Enter 'Share' to share a thought. Enter 'Yell' to have your thoughts yelled back at you. Enter 'Q' to quit.share\n",
      "please share a thought: franny is cute\n",
      "Thank you for your wise thought.\n",
      "Enter 'Share' to share a thought. Enter 'Yell' to have your thoughts yelled back at you. Enter 'Q' to quit.yell\n",
      "\n",
      "\n",
      "CODING IS FUN!!\n",
      "PIZZA IS AWESOME!!\n",
      "FRANNY IS CUTE!!\n",
      "\n",
      "\n",
      "Enter 'Share' to share a thought. Enter 'Yell' to have your thoughts yelled back at you. Enter 'Q' to quit.q\n",
      "\n",
      "Goodbye oh wise one.\n"
     ]
    }
   ],
   "source": [
    "class Thoughts():\n",
    "    def __init__(self, thoughts):\n",
    "        self.thoughts = thoughts\n",
    "        \n",
    "    def get_thought(self):\n",
    "        thought = input(\"please share a thought: \")\n",
    "        self.thoughts.append(thought)\n",
    "        print(\"Thank you for your wise thought.\")\n",
    "    def yell_thoughts(self):\n",
    "        print(\"\\n\")\n",
    "        if self.thoughts == []:\n",
    "            print(\"I have no thoughts to yell back at you.\")\n",
    "        else:\n",
    "            for thought in self.thoughts: \n",
    "                print(f\"{thought.upper()}!!\")\n",
    "        print(\"\\n\")\n",
    "        \n",
    "user = Thoughts([])\n",
    "\n",
    "def share_thoughts():\n",
    "    while True: \n",
    "        response = input(\"Enter 'Share' to share a thought. Enter 'Yell' to have your thoughts yelled back at you. Enter 'Q' to quit.\").lower()\n",
    "        if response == 'q':\n",
    "            print(\"\\nGoodbye oh wise one.\")\n",
    "            break\n",
    "        elif response == 'share':\n",
    "            user.get_thought()\n",
    "        elif response == 'yell':\n",
    "            user.yell_thoughts()\n",
    "\n",
    "share_thoughts()\n",
    "        "
   ]
  }
 ],
 "metadata": {
  "kernelspec": {
   "display_name": "Python 3.10.4 64-bit",
   "language": "python",
   "name": "python3"
  },
  "language_info": {
   "codemirror_mode": {
    "name": "ipython",
    "version": 3
   },
   "file_extension": ".py",
   "mimetype": "text/x-python",
   "name": "python",
   "nbconvert_exporter": "python",
   "pygments_lexer": "ipython3",
   "version": "3.10.4"
  },
  "vscode": {
   "interpreter": {
    "hash": "7e1998ff7f8aa20ada591c520b972326324e5ea05489af9e422744c7c09f6dad"
   }
  }
 },
 "nbformat": 4,
 "nbformat_minor": 2
}
